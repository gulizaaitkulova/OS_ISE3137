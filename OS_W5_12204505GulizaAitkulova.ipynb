{
  "nbformat": 4,
  "nbformat_minor": 0,
  "metadata": {
    "colab": {
      "provenance": [],
      "authorship_tag": "ABX9TyPIeYZEQwSIi2plw6fExy/o",
      "include_colab_link": true
    },
    "kernelspec": {
      "name": "python3",
      "display_name": "Python 3"
    },
    "language_info": {
      "name": "python"
    }
  },
  "cells": [
    {
      "cell_type": "markdown",
      "metadata": {
        "id": "view-in-github",
        "colab_type": "text"
      },
      "source": [
        "<a href=\"https://colab.research.google.com/github/gulizaaitkulova/OS_ISE3137/blob/master/OS_W5_12204505GulizaAitkulova.ipynb\" target=\"_parent\"><img src=\"https://colab.research.google.com/assets/colab-badge.svg\" alt=\"Open In Colab\"/></a>"
      ]
    },
    {
      "cell_type": "code",
      "execution_count": null,
      "metadata": {
        "id": "ursy3rNMAZJ4"
      },
      "outputs": [],
      "source": [
        "#!/bin/bash\n",
        "\n",
        "# Enhanced Server Health Checkup Script\n",
        "# Author: Senior Ubuntu Developer and Professor\n",
        "\n",
        "echo \"================ Server Health Checkup =================\"\n",
        "\n",
        "# Function to check running processes\n",
        "check_running_processes() {\n",
        "    echo \"------- Checking Running Processes --------\"\n",
        "\n",
        "    # Top 5 CPU-consuming processes\n",
        "    echo \"1. Processes consuming more than 10% CPU:\"\n",
        "    ps aux --sort=%cpu | awk 'NR<=5 {print $0}'\n",
        "\n",
        "    # List all running 'java' processes\n",
        "    echo \"2. List all running 'java' processes:\"\n",
        "    ps aux | grep 'java'\n",
        "\n",
        "    # List all running 'http' processes\n",
        "    echo \"3. List all running 'http' processes:\"\n",
        "    ps aux | grep 'http'\n",
        "\n",
        "    # List all running 'mysql' processes\n",
        "    echo \"4. List all running 'mysql' processes:\"\n",
        "    ps aux | grep 'mysql'\n",
        "}"
      ]
    }
  ]
}